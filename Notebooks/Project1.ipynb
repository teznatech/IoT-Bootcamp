{
  "nbformat": 4,
  "nbformat_minor": 0,
  "metadata": {
    "colab": {
      "name": "Project1.ipynb",
      "provenance": [],
      "collapsed_sections": [
        "nX-Hi6oaVgff",
        "oM0v0TwVumb4"
      ],
      "include_colab_link": true
    },
    "kernelspec": {
      "name": "python3",
      "display_name": "Python 3"
    }
  },
  "cells": [
    {
      "cell_type": "markdown",
      "metadata": {
        "id": "view-in-github",
        "colab_type": "text"
      },
      "source": [
        "<a href=\"https://colab.research.google.com/github/teznatech/IoT-Bootcamp/blob/master/Notebooks/Project1.ipynb\" target=\"_parent\"><img src=\"https://colab.research.google.com/assets/colab-badge.svg\" alt=\"Open In Colab\"/></a>"
      ]
    },
    {
      "cell_type": "markdown",
      "metadata": {
        "id": "nX-Hi6oaVgff",
        "colab_type": "text"
      },
      "source": [
        "# I. Getting Started\n",
        "\n"
      ]
    },
    {
      "cell_type": "markdown",
      "metadata": {
        "id": "-C3fuZapgu9V",
        "colab_type": "text"
      },
      "source": [
        "> This course will provide an depth look into IoT and developing said technologies. Students will be capable of using single board computers like the Raspberry Pi, Intel Galileo, and others to gather, store, and send data. Using familiar protocols, users will be able to access the data on the remote device. All source code is available on [Github](https://github.com/ctezna/iot-tutorial).\n",
        "\n",
        "**KEYWORDS**: IoT, GPIO, REST-API, Client-Server, HTTP, MQTT, WebSockets, Linux, Python, SQL, Cron, Edge Computing\n"
      ]
    },
    {
      "cell_type": "markdown",
      "metadata": {
        "id": "aNkRxhHzjv3F",
        "colab_type": "text"
      },
      "source": [
        "\n",
        "The following project will use these materials:\n",
        "\n",
        "\n",
        "**HARDWARE MATERIALS**\n",
        "\n",
        "\n",
        "*   Raspberry Pi Zero W\n",
        "*   16GB Micro SD\n",
        "*   Pi Camera Module\n",
        "*   DHT22 Humidity and Temperature Sensor\n",
        "\n",
        "**SOFTWARE REQUIREMENTS**\n",
        "\n",
        "\n",
        "*   Linux OS (Raspbian, Ubuntu, etc.)\n",
        "*   Python 3 (Flask)\n",
        "*   SQLite\n",
        "*   ngrok or remot3.it"
      ]
    },
    {
      "cell_type": "markdown",
      "metadata": {
        "id": "oM0v0TwVumb4",
        "colab_type": "text"
      },
      "source": [
        "# II. OS Installation"
      ]
    },
    {
      "cell_type": "markdown",
      "metadata": {
        "id": "HmxhvQoKuqGq",
        "colab_type": "text"
      },
      "source": [
        "* We will be setting up our Raspberry Pi with the latest distribution of [Raspbian lite](https://www.raspberrypi.org/downloads/raspbian/).\n",
        "\n",
        "*   Unzip the file and flash it to your MicroSD Card using balenaEtcher or another similiar program (Card name should be `Boot`).\n",
        "*   Navigate to **`/Volumes/Boot`** and create a new file to store Wifi network information - **`$ touch wpa_supplicant.conf`**\n",
        "*   Copy the following code to **`wpa_supplicant.conf`**\n",
        "\n",
        "```\n",
        "country=CO\n",
        "ctrl_interface=DIR=/var/run/wpa_supplicant GROUP=netdev\n",
        "update_config=1\n",
        "network={\n",
        "\tssid=\"MY-WIFI-NETWORK\"\n",
        "\tpsk=\"MY-WIFI-PASSWORD\"\n",
        "\tkey_mgmt=WPA-PSK\n",
        "}\n",
        "network={\n",
        "\tssid=\"MY-OTHER-NETWORK\"\n",
        "\tpsk=\"MY-OTHER-PASSWORD\"\n",
        "\tkey_mgmt=WPA-PSK\n",
        "} \n",
        "```\n",
        "\n",
        "\n",
        "*   SSH is disabled be default on Raspbian so lets create a file to enable the service - **`$ touch ssh`**\n",
        "\n",
        "*   Once Raspberry is running and connnected to a network, use **`nmap`**, **`LanScan`**, or a similar tool to expose the Raspberry's IP address."
      ]
    },
    {
      "cell_type": "markdown",
      "metadata": {
        "id": "ON6TKcftu5Ce",
        "colab_type": "text"
      },
      "source": [
        "**NOTE**\n",
        "> If you include more than one network block, **`wpa_supplicant`** will select the network that it rates as the best choice based off:\n",
        "1.   Order of network blocks in the wpa_supplicant.conf file\n",
        "2.   Security level (WPA2 is preferred)\n",
        "3.   Signal strength"
      ]
    },
    {
      "cell_type": "markdown",
      "metadata": {
        "id": "QV7S4i2evr5y",
        "colab_type": "text"
      },
      "source": [
        "# III. Software Requirements"
      ]
    },
    {
      "cell_type": "markdown",
      "metadata": {
        "id": "L6fdAmWxv1d8",
        "colab_type": "text"
      },
      "source": [
        "\n",
        "\n",
        "> Although other tools can be used to achieve the same results, this project uses a lightweight combination of software and services design to work on a large variety of single board computers or microprocessors.\n",
        "\n"
      ]
    },
    {
      "cell_type": "markdown",
      "metadata": {
        "id": "u33bhqDoyzrP",
        "colab_type": "text"
      },
      "source": [
        "**a) Connecting to Raspberry**\n",
        "\n",
        "Using a computer connected to the same network as the Raspberry, use SSH to establish a connection.\n",
        "\n",
        "\n",
        "```\n",
        "$ ssh pi@<IP_ADDRESS>\n",
        "OR \n",
        "$ ssh pi@<HOSTNAME>\n",
        "```\n",
        "\n",
        "When prompted for the password, enter **`raspberry`** if it is your first time connecting."
      ]
    },
    {
      "cell_type": "markdown",
      "metadata": {
        "id": "zprhGRmH3MxS",
        "colab_type": "text"
      },
      "source": [
        "**b) Installing Proxies**\n",
        "\n",
        "Once we are successfully logged into the Raspberry as the pi user, lets begin by installing two very useful communication tools: **`remot3.it`** and **`ngrok`**.\n",
        "\n",
        "`Remot3.it` and `ngrok` provide reverse proxies that allow for remote connections without the need of port forwarding.\n",
        "\n",
        "`remot3.it install`\n",
        "```\n",
        "$ sudo apt-get update\n",
        "$ sudo apt-get install connectd\n",
        "```\n",
        "\n",
        "`ngrok install`\n",
        "```\n",
        "$ wget https://bin.equinox.io/c/4VmDzA7iaHb/ngrok-stable-linux-arm.zip\n",
        "$ unzip /path/to/ngrok.zip\n",
        "$ ./ngrok authtoken <YOUR_AUTH_TOKEN>\n",
        "```"
      ]
    },
    {
      "cell_type": "markdown",
      "metadata": {
        "id": "JDqZr7R66o6d",
        "colab_type": "text"
      },
      "source": [
        "**NOTE**\n",
        "\n",
        "\n",
        "> **`Remot3.it`** and **`ngrok`** are FREE services that require users to make and register an account.\n",
        "\n"
      ]
    },
    {
      "cell_type": "markdown",
      "metadata": {
        "id": "eaqOxEOj8Xxe",
        "colab_type": "text"
      },
      "source": [
        "**c) Installing Python**\n",
        "\n",
        "Most distributions of Linux come preinstalled with Python. To check what version is currently installed on your Raspberry, use **`$ python --version`**.\n",
        "\n",
        "Since Raspbian Lite does not have python3 included, run the following command.\n",
        "> `$ sudo apt-get install python3`\n",
        "\n",
        "Make sure pip3 is available. \n",
        "> `$ sudo apt install python3-pip`\n",
        "\n",
        "Pip3 can now be used to install python packages directly to a python3 environment.\n",
        "> `$ pip3 install <PACKAGE_NAME>`"
      ]
    },
    {
      "cell_type": "markdown",
      "metadata": {
        "id": "wftUs-_WCB17",
        "colab_type": "text"
      },
      "source": [
        "**OPTIONAL**\n",
        "\n",
        "\n",
        "> You may install **`virtualenv`** to create seperate environments for your python dependencies. Use the commands below to install, create, activate, and disactivate virtual environments.\n",
        "\n",
        "```\n",
        "$ pip3 install virtualenv\n",
        "$ python3 -m venv <ENV_NAME>\n",
        "$ source <ENV_NAME>/bin/activate\n",
        "$ deactivate\n",
        "```"
      ]
    },
    {
      "cell_type": "markdown",
      "metadata": {
        "id": "qAF7yqfvDy9F",
        "colab_type": "text"
      },
      "source": [
        "**d) Installing Dependencies**\n",
        "\n",
        "These dependencies provide some of the functionalities necessary to make powerful and truly wireless systems.\n",
        "\n",
        "**`Flask`** and it's plugins will be used to build a server that communicates using either HTTP, MQTT, or WebSockets.\n",
        "\n",
        "For this project we will be setting up a HTTP server and creating a REST API on a Client-Server architecture."
      ]
    }
  ]
}
